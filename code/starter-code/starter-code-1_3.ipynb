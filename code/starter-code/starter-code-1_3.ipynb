{
 "cells": [
  {
   "cell_type": "markdown",
   "metadata": {},
   "source": [
    "# Multi-table Datasets - ENRON Archive"
   ]
  },
  {
   "cell_type": "markdown",
   "metadata": {},
   "source": [
    "## 1. Data import\n",
    "\n",
    "Connect to the file 'assets/datasets/enron.db' using one of these methods:\n",
    "\n",
    "- sqlite3 python package\n",
    "- pandas.read_sql\n",
    "- SQLite Manager Firefox extension\n",
    "\n",
    "Take a look at the database and query the master table. How many Tables are there in the db?\n",
    "\n",
    "> Answer:\n",
    "There are 3 tables:\n",
    "- MessageBase\n",
    "- RecipientBase\n",
    "- EmployeeBase"
   ]
  },
  {
   "cell_type": "code",
   "execution_count": 5,
   "metadata": {
    "collapsed": false
   },
   "outputs": [
    {
     "data": {
      "text/plain": [
       "[(u'MessageBase',), (u'RecipientBase',), (u'EmployeeBase',)]"
      ]
     },
     "execution_count": 5,
     "metadata": {},
     "output_type": "execute_result"
    }
   ],
   "source": [
    "import sqlite3\n",
    "conn = sqlite3.connect('../../assets/datasets/enron.db') \n",
    "c = conn.cursor()\n",
    "c.execute(\"SELECT name FROM sqlite_master WHERE type='table';\").fetchall()"
   ]
  },
  {
   "cell_type": "markdown",
   "metadata": {},
   "source": [
    "Query the `sqlite_master` table to retrieve the schema of the `EmployeeBase` table.\n",
    "\n",
    "1. What fields are there?\n",
    "1. What's the type of each of them?"
   ]
  },
  {
   "cell_type": "code",
   "execution_count": 16,
   "metadata": {
    "collapsed": false
   },
   "outputs": [
    {
     "name": "stdout",
     "output_type": "stream",
     "text": [
      " Employee columns:  [u'eid', u'name', u'department', u'longdepartment', u'title', u'gender', u'seniority']\n",
      "Employee column types:  [u'INTEGER', u'TEXT', u'TEXT', u'TEXT', u'TEXT', u'TEXT', u'TEXT']\n",
      "Message columns:  [u'mid', u'filename', u'unix_time', u'subject', u'from_eid']\n",
      "Message column types:  [u'INTEGER', u'TEXT', u'INTEGER', u'TEXT', u'INTEGER']\n",
      "recipient columns:  [u'mid', u'rno', u'to_eid']\n",
      "recipient column types:  [u'INTEGER', u'INTEGER', u'INTEGER']\n"
     ]
    }
   ],
   "source": [
    "Employee_Columns = c.execute(\"PRAGMA table_info(EmployeeBase)\").fetchall()\n",
    "Employee_Column_Types = [x[2] for x in Employee_Columns]\n",
    "Employee_Columns = [x[1] for x in Employee_Columns]\n",
    "\n",
    "Message_Columns = c.execute(\"PRAGMA table_info(MessageBase)\").fetchall()\n",
    "Message_Column_Types = [x[2] for x in Message_Columns]\n",
    "Message_Columns = [x[1] for x in Message_Columns]\n",
    "\n",
    "Recipient_Columns = c.execute(\"PRAGMA table_info(RecipientBase)\").fetchall()\n",
    "Recipient_Column_Types = [x[2] for x in Recipient_Columns]\n",
    "Recipient_Columns = [x[1] for x in Recipient_Columns]\n",
    "\n",
    "print \"Employee columns: \", Employee_Columns\n",
    "print \"Employee column types: \" , Employee_Column_Types\n",
    "print \"Message columns: \" , Message_Columns\n",
    "print \"Message column types: \", Message_Column_Types\n",
    "print \"recipient columns: \", Recipient_Columns\n",
    "print \"recipient column types: \", Recipient_Column_Types"
   ]
  },
  {
   "cell_type": "markdown",
   "metadata": {},
   "source": [
    "1. Print the first 5 rows of EmployeeBase table\n",
    "1. Print the first 5 rows of MessageBase table\n",
    "1. Print the first 5 rows of RecipientBase table\n",
    "\n",
    "**Hint**  use `SELECT` and `LIMIT`."
   ]
  },
  {
   "cell_type": "code",
   "execution_count": 19,
   "metadata": {
    "collapsed": false
   },
   "outputs": [
    {
     "name": "stdout",
     "output_type": "stream",
     "text": [
      "[(1, u'John Arnold', u'Forestry', u'ENA Gas Financial', u'VP Trading', u'Male', u'Senior'), (2, u'Harry Arora', u'Forestry', u'ENA East Power', u'VP Trading', u'Male', u'Senior'), (3, u'Robert Badeer', u'Forestry', u'ENA West Power', u'Mgr Trading', u'Male', u'Junior'), (4, u'Susan Bailey', u'Legal', u'ENA Legal', u'Specialist Legal', u'Female', u'Junior'), (5, u'Eric Bass', u'Forestry', u'ENA Gas Texas', u'Trader', u'Male', u'Junior')]\n",
      "[(1, u'taylor-m/sent/11', 910930020, u'Cd$ CME letter', 138), (2, u'taylor-m/sent/17', 911459940, u'Indemnification', 138), (3, u'taylor-m/sent/18', 911463840, u'Re: Indemnification', 138), (4, u'taylor-m/sent/23', 911874180, u'Re: Coral Energy, L.P.', 138), (5, u'taylor-m/sent/27', 912396120, u'Bankruptcy Code revisions', 138)]\n",
      "[(1, 1, 59), (2, 1, 15), (3, 1, 15), (4, 1, 109), (4, 2, 49)]\n"
     ]
    }
   ],
   "source": [
    "print c.execute(\"SELECT * FROM EmployeeBase LIMIT 5;\").fetchall()\n",
    "print c.execute(\"SELECT * FROM MessageBASE LIMIT 5;\").fetchall()\n",
    "print c.execute(\"SELECT * FROM RecipientBase LIMIT 5;\").fetchall()\n",
    "\n"
   ]
  },
  {
   "cell_type": "markdown",
   "metadata": {},
   "source": [
    "Import each of the 3 tables to a Pandas Dataframes"
   ]
  },
  {
   "cell_type": "code",
   "execution_count": 66,
   "metadata": {
    "collapsed": false
   },
   "outputs": [
    {
     "data": {
      "text/html": [
       "<div>\n",
       "<table border=\"1\" class=\"dataframe\">\n",
       "  <thead>\n",
       "    <tr style=\"text-align: right;\">\n",
       "      <th></th>\n",
       "      <th>eid</th>\n",
       "      <th>name</th>\n",
       "      <th>department</th>\n",
       "      <th>longdepartment</th>\n",
       "      <th>title</th>\n",
       "      <th>gender</th>\n",
       "      <th>seniority</th>\n",
       "    </tr>\n",
       "  </thead>\n",
       "  <tbody>\n",
       "    <tr>\n",
       "      <th>0</th>\n",
       "      <td>1</td>\n",
       "      <td>John Arnold</td>\n",
       "      <td>Forestry</td>\n",
       "      <td>ENA Gas Financial</td>\n",
       "      <td>VP Trading</td>\n",
       "      <td>Male</td>\n",
       "      <td>Senior</td>\n",
       "    </tr>\n",
       "    <tr>\n",
       "      <th>1</th>\n",
       "      <td>2</td>\n",
       "      <td>Harry Arora</td>\n",
       "      <td>Forestry</td>\n",
       "      <td>ENA East Power</td>\n",
       "      <td>VP Trading</td>\n",
       "      <td>Male</td>\n",
       "      <td>Senior</td>\n",
       "    </tr>\n",
       "    <tr>\n",
       "      <th>2</th>\n",
       "      <td>3</td>\n",
       "      <td>Robert Badeer</td>\n",
       "      <td>Forestry</td>\n",
       "      <td>ENA West Power</td>\n",
       "      <td>Mgr Trading</td>\n",
       "      <td>Male</td>\n",
       "      <td>Junior</td>\n",
       "    </tr>\n",
       "    <tr>\n",
       "      <th>3</th>\n",
       "      <td>4</td>\n",
       "      <td>Susan Bailey</td>\n",
       "      <td>Legal</td>\n",
       "      <td>ENA Legal</td>\n",
       "      <td>Specialist Legal</td>\n",
       "      <td>Female</td>\n",
       "      <td>Junior</td>\n",
       "    </tr>\n",
       "    <tr>\n",
       "      <th>4</th>\n",
       "      <td>5</td>\n",
       "      <td>Eric Bass</td>\n",
       "      <td>Forestry</td>\n",
       "      <td>ENA Gas Texas</td>\n",
       "      <td>Trader</td>\n",
       "      <td>Male</td>\n",
       "      <td>Junior</td>\n",
       "    </tr>\n",
       "  </tbody>\n",
       "</table>\n",
       "</div>"
      ],
      "text/plain": [
       "   eid           name department     longdepartment             title  gender  \\\n",
       "0    1    John Arnold   Forestry  ENA Gas Financial        VP Trading    Male   \n",
       "1    2    Harry Arora   Forestry     ENA East Power        VP Trading    Male   \n",
       "2    3  Robert Badeer   Forestry     ENA West Power       Mgr Trading    Male   \n",
       "3    4   Susan Bailey      Legal          ENA Legal  Specialist Legal  Female   \n",
       "4    5      Eric Bass   Forestry      ENA Gas Texas            Trader    Male   \n",
       "\n",
       "  seniority  \n",
       "0    Senior  \n",
       "1    Senior  \n",
       "2    Junior  \n",
       "3    Junior  \n",
       "4    Junior  "
      ]
     },
     "execution_count": 66,
     "metadata": {},
     "output_type": "execute_result"
    }
   ],
   "source": [
    "import pandas as pd\n",
    "\n",
    "df_employee_base = pd.DataFrame(c.execute(\"SELECT * FROM EmployeeBase\").fetchall(), columns = Employee_Columns)\n",
    "\n",
    "df_message_base = pd.DataFrame(c.execute(\"SELECT * FROM MessageBase\").fetchall(), columns = Message_Columns)\n",
    "\n",
    "df_recipient_base = pd.DataFrame(c.execute(\"SELECT * FROM RecipientBase\").fetchall(), columns = Recipient_Columns)\n",
    "\n",
    "df_employee_base.head()"
   ]
  },
  {
   "cell_type": "markdown",
   "metadata": {},
   "source": [
    "## 2. Data Exploration\n",
    "\n",
    "Use the 3 dataframes to answer the following questions:\n",
    "\n",
    "1. How many employees are there in the company?\n",
    "- How many messages are there in the database?\n",
    "- Convert the timestamp column in the messages. When was the oldest message sent? And the newest?\n",
    "- Some messages are sent to more than one recipient. Group the messages by message_id and count the number of recepients. Then look at the distribution of recepient numbers.\n",
    "    - How many messages have only one recepient?\n",
    "    - How many messages have >= 5 recepients?\n",
    "    - What's the highest number of recepients?\n",
    "    - Who sent the message with the highest number of recepients?\n",
    "- Plot the distribution of recepient numbers using Bokeh."
   ]
  },
  {
   "cell_type": "code",
   "execution_count": 23,
   "metadata": {
    "collapsed": false
   },
   "outputs": [
    {
     "name": "stdout",
     "output_type": "stream",
     "text": [
      "156\n",
      "21635\n"
     ]
    }
   ],
   "source": [
    "# 1. How many employees are there in the company?\n",
    "print len(df_employee_base)\n",
    "#2. How many messages are there in the database?\n",
    "print len(df_message_base)"
   ]
  },
  {
   "cell_type": "code",
   "execution_count": 26,
   "metadata": {
    "collapsed": false
   },
   "outputs": [
    {
     "name": "stdout",
     "output_type": "stream",
     "text": [
      "1998-11-13 04:07:00\n",
      "2002-06-21 13:37:34\n"
     ]
    }
   ],
   "source": [
    "# Convert the timestamp column in the messages.\n",
    "df_message_base['Date_Time'] = pd.to_datetime(df_message_base['unix_time'],unit='s')\n",
    "# When was the oldest message sent? \n",
    "print min(df_message_base['Date_Time'])\n",
    "#And the newest?\n",
    "print max(df_message_base['Date_Time'])"
   ]
  },
  {
   "cell_type": "code",
   "execution_count": 86,
   "metadata": {
    "collapsed": false
   },
   "outputs": [
    {
     "name": "stdout",
     "output_type": "stream",
     "text": [
      "14985\n",
      "1380\n",
      "57\n",
      "       rno\n",
      "mid       \n",
      "12116   57\n",
      "12151   57\n",
      "                   name\n",
      "21839  John J. Lavorato\n"
     ]
    }
   ],
   "source": [
    "# Some messages are sent to more than one recipient.\n",
    "# Group the messages by message_id and count the number of recepients. \n",
    "df_merged = df_message_base.merge(df_recipient_base, how = 'inner', on = 'mid')\n",
    "pivot = pd.pivot_table(df_merged, values = ['rno'], index = ['mid'], aggfunc = len)\n",
    "pivot\n",
    "# How many messages have only one recepient?\n",
    "print len(pivot[pivot.rno == 1])\n",
    "# How many messages have >= 5 recepients?\n",
    "print len(pivot[pivot.rno >= 5])\n",
    "# What's the highest number of recepients?\n",
    "print max(pivot.rno)\n",
    "# Who sent the message with the highest number of recepients\n",
    "print pivot[pivot.rno == max(pivot.rno)]\n",
    "df_merged_2 = df_merged.merge(df_employee_base, how = 'inner', left_on = 'from_eid', right_on = 'eid')\n",
    "print df_merged_2.ix[df_merged_2.mid == 12116][['name']][0:1]"
   ]
  },
  {
   "cell_type": "markdown",
   "metadata": {},
   "source": [
    "Rescale to investigate the tail of the curve"
   ]
  },
  {
   "cell_type": "code",
   "execution_count": 87,
   "metadata": {
    "collapsed": false
   },
   "outputs": [],
   "source": [
    "from bokeh.charts import Histogram, show, output_notebook\n",
    "\n",
    "x = Histogram(df_merged, values = 'rno')\n",
    "show(x)"
   ]
  },
  {
   "cell_type": "markdown",
   "metadata": {},
   "source": [
    "## 3. Data Merging\n",
    "\n",
    "Use the pandas merge function to combine the information in the 3 dataframes to answer the following questions:\n",
    "\n",
    "1. Are there more Men or Women employees?\n",
    "- How is gender distributed across departments?\n",
    "- Who is sending more emails? Men or Women?\n",
    "- What's the average number of emails sent by each gender?\n",
    "- Are there more Juniors or Seniors?\n",
    "- Who is sending more emails? Juniors or Seniors?\n",
    "- Which department is sending more emails? How does that relate with the number of employees in the department?\n",
    "- Who are the top 3 senders of emails? (people who sent out the most emails)"
   ]
  },
  {
   "cell_type": "code",
   "execution_count": 176,
   "metadata": {
    "collapsed": false
   },
   "outputs": [
    {
     "name": "stdout",
     "output_type": "stream",
     "text": [
      "Males:  113\n",
      "Females:  43\n",
      "\n",
      "\n",
      "Gender Distribution\n",
      "gender      Female  Male\n",
      "department              \n",
      "Forestry        10    50\n",
      "Legal           13    12\n",
      "Other           20    51\n",
      "\n",
      "\n",
      "Male Emails:  22798\n",
      "Female Emails:  15590\n",
      "\n",
      "\n",
      "Average Emails By Gender\n",
      "Males:  113\n",
      "Females:  298\n",
      "\n",
      "\n",
      "Are there more Juniors or Seniors? seniority\n",
      "Junior    78\n",
      "Senior    74\n",
      "Name: eid, dtype: int64\n",
      "\n",
      "\n",
      "Who is sending more emails? Juniors or Seniors? seniority\n",
      "Junior     9196\n",
      "Senior    12439\n",
      "Name: mid, dtype: int64\n",
      "\n",
      "\n",
      "Which department is sending more emails? How does that relate with the number of employees in the department?              eid    mid\n",
      "department            \n",
      "Forestry     59   7112\n",
      "Legal        25  19292\n",
      "Other        68  11984\n",
      "\n",
      "\n",
      "Who are the top 3 senders of emails? (people who sent out the most emails)\n",
      "Jeff Dasovich       3844\n",
      "Tana Jones          2858\n",
      "James D. Steffes    1666\n",
      "Name: name, dtype: int64\n"
     ]
    }
   ],
   "source": [
    "df_merged_2 = df_merged.merge(df_employee_base, how = 'inner', left_on = 'from_eid', right_on = 'eid')\n",
    "\n",
    "# Are there more Men or Women employees?\n",
    "print \"Males: \", len(df_employee_base[df_employee_base.gender == 'Male'])\n",
    "print \"Females: \", len(df_employee_base[df_employee_base.gender == 'Female'])\n",
    "\n",
    "print \"\\n\"\n",
    "\n",
    "# How is gender distributed across departments?\n",
    "print \"Gender Distribution\"\n",
    "print pd.pivot_table(df_employee_base[['gender','department']], columns = ['gender'], index = ['department'], aggfunc = len)\n",
    "\n",
    "print \"\\n\"\n",
    "\n",
    "# Who is sending more emails? Men or Women?\n",
    "print 'Male Emails: ', len(df_merged_2[df_merged_2.gender == 'Male'])\n",
    "print 'Female Emails: ', len(df_merged_2[df_merged_2.gender == 'Female'])\n",
    "\n",
    "print \"\\n\"\n",
    "\n",
    "#What's the average number of emails sent by each gender?\n",
    "\n",
    "print 'Average Emails By Gender'\n",
    "males = len(df_merged_2[df_merged_2.gender == 'Male']['mid'].value_counts()) / len(df_employee_base[df_employee_base.gender == 'Male'])\n",
    "females = len(df_merged_2[df_merged_2.gender == 'Male']['mid'].value_counts()) / len(df_employee_base[df_employee_base.gender == 'Female'])\n",
    "\n",
    "print 'Males: ', males\n",
    "print 'Females: ', females\n",
    "\n",
    "print \"\\n\"\n",
    "\n",
    "# Are there more Juniors or Seniors?\n",
    "print 'Are there more Juniors or Seniors?', df_merged_2.groupby('seniority')['eid'].nunique()\n",
    "print \"\\n\"\n",
    "print 'Who is sending more emails? Juniors or Seniors?', df_merged_2.groupby('seniority')['mid'].nunique()\n",
    "\n",
    "print \"\\n\"\n",
    "\n",
    "print 'Which department is sending more emails? How does that relate with the number of employees in the department? ',\n",
    "print pd.pivot_table(df_merged_2, values = ['mid','eid'], index = ['department'], aggfunc = {'mid': len, 'eid': lambda x: len(x.unique())})\n",
    "print \"\\n\"\n",
    "print 'Who are the top 3 senders of emails? (people who sent out the most emails)'\n",
    "print df_merged_2['name'].value_counts()[0:3]\n",
    "\n"
   ]
  },
  {
   "cell_type": "markdown",
   "metadata": {},
   "source": [
    "Answer the following questions regarding received messages:\n",
    "\n",
    "- Who is receiving more emails? Men or Women?\n",
    "- Who is receiving more emails? Juniors or Seniors?\n",
    "- Which department is receiving more emails? How does that relate with the number of employees in the department?\n",
    "- Who are the top 5 receivers of emails? (people who received the most emails)"
   ]
  },
  {
   "cell_type": "code",
   "execution_count": 174,
   "metadata": {
    "collapsed": false
   },
   "outputs": [
    {
     "name": "stdout",
     "output_type": "stream",
     "text": [
      "Who is receiving more emails? Men or Women?\n",
      "gender\n",
      "Female     9617\n",
      "Male      15446\n",
      "Name: mid, dtype: int64\n",
      "\n",
      "\n",
      "Who is receiving more emails? Juniors or Seniors\n",
      "seniority\n",
      "Junior     9966\n",
      "Senior    14556\n",
      "Name: mid, dtype: int64\n",
      "\n",
      "\n",
      "Which department is receiving more emails? How does that relate with the number of employees in the department?\n",
      "            eid    mid\n",
      "department            \n",
      "Forestry     60   8424\n",
      "Legal        25  16311\n",
      "Other        69  13653\n",
      "\n",
      "\n",
      "Who are the top 5 receivers of emails?\n",
      "James D. Steffes    1797\n",
      "Richard Shapiro     1730\n",
      "Mark E. Taylor      1477\n",
      "Steven J. Kean      1290\n",
      "Sara Shackleton     1173\n",
      "Name: name, dtype: int64\n"
     ]
    }
   ],
   "source": [
    "df_merged_3 = df_recipient_base.merge(df_employee_base, how = 'inner', left_on = 'to_eid', right_on = 'eid')\n",
    "\n",
    "print 'Who is receiving more emails? Men or Women?'\n",
    "print df_merged_3.groupby('gender')['mid'].nunique()\n",
    "print \"\\n\"\n",
    "print 'Who is receiving more emails? Juniors or Seniors'\n",
    "print df_merged_3.groupby('seniority')['mid'].nunique()\n",
    "print \"\\n\"\n",
    "print 'Which department is receiving more emails? How does that relate with the number of employees in the department?'\n",
    "print pd.pivot_table(df_merged_3, values = ['mid','eid'], index = ['department'], aggfunc = {'mid': len, 'eid': lambda x: len(x.unique())})\n",
    "print \"\\n\"\n",
    "print 'Who are the top 5 receivers of emails?'\n",
    "print df_merged_3['name'].value_counts()[0:5]\n",
    "\n",
    "\n"
   ]
  },
  {
   "cell_type": "markdown",
   "metadata": {},
   "source": [
    "Which employees sent the most 'mass' emails?"
   ]
  },
  {
   "cell_type": "code",
   "execution_count": 182,
   "metadata": {
    "collapsed": false
   },
   "outputs": [
    {
     "name": "stdout",
     "output_type": "stream",
     "text": [
      "Jeff Dasovich    3844\n",
      "Name: name, dtype: int64\n"
     ]
    }
   ],
   "source": [
    "df_merged_3['mid'].value_counts()\n",
    "\n",
    "print df_merged_2['name'].value_counts()[0:1]"
   ]
  },
  {
   "cell_type": "markdown",
   "metadata": {},
   "source": [
    "Keep exploring the dataset, which other questions would you ask?\n",
    "\n",
    "Work in pairs. Give each other a challenge and try to solve it."
   ]
  }
 ],
 "metadata": {
  "anaconda-cloud": {},
  "kernelspec": {
   "display_name": "Python [default]",
   "language": "python",
   "name": "python2"
  },
  "language_info": {
   "codemirror_mode": {
    "name": "ipython",
    "version": 2
   },
   "file_extension": ".py",
   "mimetype": "text/x-python",
   "name": "python",
   "nbconvert_exporter": "python",
   "pygments_lexer": "ipython2",
   "version": "2.7.12"
  }
 },
 "nbformat": 4,
 "nbformat_minor": 0
}
